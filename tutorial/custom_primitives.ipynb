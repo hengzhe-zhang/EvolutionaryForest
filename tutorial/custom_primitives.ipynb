{
 "cells": [
  {
   "attachments": {},
   "cell_type": "markdown",
   "metadata": {},
   "source": [
    "### Introduction\n",
    "The purpose of this code is to demonstrate how to define and use custom primitives in the Evolutionary Forest regression model.\n",
    "\n",
    "Evolutionary Forest is a machine learning algorithm that combines genetic programming with decision trees to create an ensemble model for regression tasks. It uses genetic programming to evolve a set of complex features, with each feature represented as a computer program. Each program contains primitives, which represent functions or operators that can be used to build complex features.\n",
    "\n",
    "By default, Evolutionary Forest comes with a set of built-in primitives, such as addition, subtraction, multiplication, and division. However, users can define their own custom primitives to build more complex features.\n",
    "\n",
    "The code first trains an instance of the Evolutionary Forest regression model using the default set of primitives. It then defines a new custom primitive, `Sin`, which computes the sine of a given value. The `custom_primitive` argument of the `EvolutionaryForestRegressor` constructor is used to pass a dictionary to specify custom primitives.\n",
    "\n",
    "To begin, we trained an instance of the Evolutionary Forest regression model using the default set of primitives. The experimental results show an $R^2$ score of 0.72."
   ]
  },
  {
   "cell_type": "code",
   "execution_count": 2,
   "metadata": {
    "collapsed": true
   },
   "source": [
    "import sys\n",
    "sys.path.insert(0, '../')\n",
    "\n",
    "import random\n",
    "import numpy as np\n",
    "from sklearn.datasets import make_friedman1\n",
    "from sklearn.metrics import r2_score\n",
    "from sklearn.model_selection import train_test_split\n",
    "\n",
    "from evolutionary_forest.forest import EvolutionaryForestRegressor\n",
    "\n",
    "random.seed(0)\n",
    "np.random.seed(0)\n",
    "\n",
    "# Generate dataset\n",
    "X, y = make_friedman1(n_samples=100, n_features=5, random_state=0)\n",
    "# Split dataset\n",
    "x_train, x_test, y_train, y_test = train_test_split(X, y, test_size=0.2, random_state=0)\n",
    "\n",
    "# Train Evolutionary Forest\n",
    "r = EvolutionaryForestRegressor(max_height=5, normalize=True, select='AutomaticLexicase',\n",
    "                                gene_num=10, boost_size=100, n_gen=20, n_pop=200, cross_pb=1,\n",
    "                                base_learner='Random-DT', verbose=True, n_process=1)\n",
    "r.fit(x_train, y_train)\n",
    "print(r2_score(y_test, r.predict(x_test)))"
   ],
   "outputs": []
  },
  {
   "attachments": {},
   "cell_type": "markdown",
   "metadata": {},
   "source": [
    "### Custom Defined Primitives\n",
    "\n",
    "Now, we use the `custom_primitive` argument of the `EvolutionaryForestRegressor` constructor to pass a dictionary that maps each custom primitive name to a tuple containing the corresponding function and the number of arguments it takes.\n",
    "\n",
    "Next, we train a new instance of the Evolutionary Forest regression model using the custom primitives and evaluate its performance on the test set using the $R^2$ score. The experimental results demonstrate an improvement in performance, with the $R^2$ score increasing from 0.72 to 0.73. This improvement indicates the effectiveness of using custom primitives in the Evolutionary Forest regression model to enhance its performance on regression tasks."
   ]
  },
  {
   "cell_type": "code",
   "execution_count": 3,
   "metadata": {
    "collapsed": false
   },
   "source": [
    "# Define Custom Primitives\n",
    "r = EvolutionaryForestRegressor(max_height=5, normalize=True, select='AutomaticLexicase',\n",
    "                                gene_num=10, boost_size=100, n_gen=20, n_pop=200, cross_pb=1,\n",
    "                                base_learner='Random-DT', verbose=True, n_process=1,\n",
    "                                basic_primitive='Add,Mul,Div',\n",
    "                                custom_primitive={\n",
    "                                    'Sin': (np.sin, 1)\n",
    "                                })\n",
    "r.fit(x_train, y_train)\n",
    "print(r2_score(y_test, r.predict(x_test)))"
   ],
   "outputs": []
  },
  {
   "attachments": {},
   "cell_type": "markdown",
   "metadata": {},
   "source": [
    "In summary, this code demonstrates how to extend the functionality of the Evolutionary Forest regression model by defining and using custom primitives. This is useful for tackling more complex regression problems."
   ]
  }
 ],
 "metadata": {
  "kernelspec": {
   "display_name": "Python 3",
   "language": "python",
   "name": "python3"
  },
  "language_info": {
   "codemirror_mode": {
    "name": "ipython",
    "version": 3
   },
   "file_extension": ".py",
   "mimetype": "text/x-python",
   "name": "python",
   "nbconvert_exporter": "python",
   "pygments_lexer": "ipython3",
   "version": "3.9.12"
  }
 },
 "nbformat": 4,
 "nbformat_minor": 0
}
